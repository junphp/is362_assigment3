{
 "cells": [
  {
   "cell_type": "code",
   "execution_count": 1,
   "metadata": {
    "collapsed": true
   },
   "outputs": [],
   "source": [
    "import pandas as pd\n",
    "import matplotlib.pyplot as plt\n",
    "import numpy.random as np\n",
    "import sys\n",
    "import matplotlib\n",
    "\n",
    "%matplotlib inline"
   ]
  },
  {
   "cell_type": "code",
   "execution_count": 27,
   "metadata": {
    "collapsed": true
   },
   "outputs": [],
   "source": [
    "#from New York City to Key West, Florida.\n",
    "total = 1541\n",
    "#avg first two entries (55+65)/2\n",
    "avg = 60\n",
    "dta=3\n",
    "#total date of ridden a bicycle\n",
    "totd = 26\n",
    "\n",
    "now=120\n",
    "kk=[55,120]"
   ]
  },
  {
   "cell_type": "code",
   "execution_count": 122,
   "metadata": {
    "scrolled": true
   },
   "outputs": [],
   "source": [
    "last=0\n",
    "while dta <= totd:\n",
    "    if dta >= 26:\n",
    "        last = total-now\n",
    "        lastmi=now+last\n",
    "        kk.append(lastmi)\n",
    "        dta+=1\n",
    "    else:\n",
    "        now=now+60\n",
    "        kk.append(now)\n",
    "        dta+=1"
   ]
  },
  {
   "cell_type": "code",
   "execution_count": 121,
   "metadata": {
    "scrolled": true
   },
   "outputs": [],
   "source": [
    "ind=1\n",
    "inlis=[]\n",
    "for i in kk:\n",
    "    inlis.append(ind)\n",
    "    ind+=1"
   ]
  },
  {
   "cell_type": "code",
   "execution_count": 106,
   "metadata": {},
   "outputs": [
    {
     "data": {
      "text/plain": [
       "1       55\n",
       "2      120\n",
       "3      180\n",
       "4      240\n",
       "5      300\n",
       "6      360\n",
       "7      420\n",
       "8      480\n",
       "9      540\n",
       "10     600\n",
       "11     660\n",
       "12     720\n",
       "13     780\n",
       "14     840\n",
       "15     900\n",
       "16     960\n",
       "17    1020\n",
       "18    1080\n",
       "19    1140\n",
       "20    1200\n",
       "21    1260\n",
       "22    1320\n",
       "23    1380\n",
       "24    1440\n",
       "25    1500\n",
       "26    1541\n",
       "dtype: int64"
      ]
     },
     "execution_count": 106,
     "metadata": {},
     "output_type": "execute_result"
    }
   ],
   "source": [
    "odometer = pd.Series(kk,index=inlis)\n",
    "odometer"
   ]
  },
  {
   "cell_type": "code",
   "execution_count": 114,
   "metadata": {},
   "outputs": [
    {
     "name": "stdout",
     "output_type": "stream",
     "text": [
      "1day :55 Mile\n",
      "2day :65 Mile\n",
      "3day :60 Mile\n",
      "4day :60 Mile\n",
      "5day :60 Mile\n",
      "6day :60 Mile\n",
      "7day :60 Mile\n",
      "8day :60 Mile\n",
      "9day :60 Mile\n",
      "10day :60 Mile\n",
      "11day :60 Mile\n",
      "12day :60 Mile\n",
      "13day :60 Mile\n",
      "14day :60 Mile\n",
      "15day :60 Mile\n",
      "16day :60 Mile\n",
      "17day :60 Mile\n",
      "18day :60 Mile\n",
      "19day :60 Mile\n",
      "20day :60 Mile\n",
      "21day :60 Mile\n",
      "22day :60 Mile\n",
      "23day :60 Mile\n",
      "24day :60 Mile\n",
      "25day :60 Mile\n",
      "26day :41 Mile\n"
     ]
    }
   ],
   "source": [
    "odometer2=[]\n",
    "lastMile=0\n",
    "day=1\n",
    "for i in odometer:\n",
    "    milePerDay=i-lastMile\n",
    "    print(str(day)+'day :'+str(milePerDay)+' Mile')\n",
    "    odometer2.append(milePerDay)\n",
    "    day+=1\n",
    "    lastMile=i\n",
    "    \n"
   ]
  },
  {
   "cell_type": "code",
   "execution_count": 120,
   "metadata": {},
   "outputs": [
    {
     "data": {
      "text/plain": [
       "<matplotlib.axes._subplots.AxesSubplot at 0x2a7648488d0>"
      ]
     },
     "execution_count": 120,
     "metadata": {},
     "output_type": "execute_result"
    },
    {
     "data": {
      "image/png": "[encoded data removed]",
      "text/plain": [
       "<matplotlib.figure.Figure at 0x2a76487cda0>"
      ]
     },
     "metadata": {},
     "output_type": "display_data"
    }
   ],
   "source": [
    "df = pd.DataFrame(data = odometer2, columns=['Mile'])\n",
    "df.index=inlis\n",
    "df.plot()"
   ]
  }
 ],
 "metadata": {
  "kernelspec": {
   "display_name": "Python 3",
   "language": "python",
   "name": "python3"
  },
  "language_info": {
   "codemirror_mode": {
    "name": "ipython",
    "version": 3
   },
   "file_extension": ".py",
   "mimetype": "text/x-python",
   "name": "python",
   "nbconvert_exporter": "python",
   "pygments_lexer": "ipython3",
   "version": "3.5.4"
  }
 },
 "nbformat": 4,
 "nbformat_minor": 2
}
